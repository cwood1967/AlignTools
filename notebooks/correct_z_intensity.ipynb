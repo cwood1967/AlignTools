{
 "cells": [
  {
   "cell_type": "markdown",
   "id": "4a8f7130-c150-443e-811b-ad4eeb93b666",
   "metadata": {},
   "source": [
    "### Credits\n",
    "\n",
    "This is based on the method used in this paper:\n",
    "Hernando M. Vergara, Constantin Pape, Kimberly I. Meechan, Valentyna Zinchenko, Christel Genoud, Adrian A. Wanner, Kevin Nzumbi Mutemi, Benjamin Titze, Rachel M. Templin, Paola Y. Bertucci, Oleg Simakov, Wiebke Dürichen, Pedro Machado, Emily L. Savage, Lothar Schermelleh, Yannick Schwab, Rainer W. Friedrich, Anna Kreshuk, Christian Tischer, Detlev Arendt,\n",
    "\n",
    "Whole-body integration of gene expression and single-cell morphology,\n",
    "Cell, Volume 184, Issue 18, 2021, Pages 4819-4837.e22, ISSN 0092-8674, https://doi.org/10.1016/j.cell.2021.07.017.\n",
    "\n",
    "Full text links:\n",
    " - [Cell](https://www.sciencedirect.com/science/article/pii/S009286742100876X)\n",
    " - [bioarxiv](https://www.biorxiv.org/content/10.1101/2020.02.26.961037v1)\n",
    "\n"
   ]
  },
  {
   "cell_type": "code",
   "execution_count": null,
   "id": "920781b7",
   "metadata": {},
   "outputs": [],
   "source": [
    "import time\n",
    "\n",
    "import tifffile\n",
    "import numpy as np\n",
    "from matplotlib import pyplot as plt\n",
    "import mrcfile\n",
    "\n",
    "import napari"
   ]
  },
  {
   "cell_type": "code",
   "execution_count": null,
   "id": "8a11dbb3-1492-4811-a052-15878f037394",
   "metadata": {},
   "outputs": [],
   "source": [
    "viewer = napari.Viewer()"
   ]
  },
  {
   "cell_type": "code",
   "execution_count": null,
   "id": "0882a367",
   "metadata": {},
   "outputs": [],
   "source": [
    "'''\n",
    "Open the imod aligned mrc file using the package mrcfile\n",
    "\n",
    "The stack is opened as memory mapped file so sections can be loaded in\n",
    "memory as needed.\n",
    "\n",
    "x : mrcfile memory map object\n",
    "    the image stack array is available with x.data\n",
    "    \n",
    "'''\n",
    "x = mrcfile.mmap('stack_ali.mrc')"
   ]
  },
  {
   "cell_type": "code",
   "execution_count": null,
   "id": "c36db0f5-4620-4c50-9054-5a3b7bb78930",
   "metadata": {},
   "outputs": [],
   "source": [
    "'''\n",
    "napari will only read a section when the z-slider is moved\n",
    "'''\n",
    "\n",
    "viewer.add_image(x.data)"
   ]
  },
  {
   "cell_type": "code",
   "execution_count": null,
   "id": "db2b8de6",
   "metadata": {},
   "outputs": [],
   "source": [
    "def correct_z(a, lref, uref):\n",
    "'''\n",
    "    Adjust the histogram of the section. \n",
    "    based on https://github.com/mobie/platybrowser-project/tree/main/misc/intensity_correction\n",
    "    https://www.biorxiv.org/content/10.1101/2020.02.26.961037v1\n",
    "    \n",
    "    a : array\n",
    "        the image section to be corrected\n",
    "    lref : float\n",
    "        the lower intensity to correct to\n",
    "    uref :\n",
    "        the upper intensity to correct to\n",
    "        \n",
    "    returns : array\n",
    "        the image with the corrected histogram\n",
    "'''\n",
    "    agood = a[a > 0]\n",
    "    u = np.percentile(agood, 95)\n",
    "    low = np.percentile(agood, 5)\n",
    "    c = (uref - lref)*(a - u)/(u - low) + uref\n",
    "    \n",
    "    if a.dtype.itemsize == 1:\n",
    "        c = np.where(c < 0, 0, c)\n",
    "        c = np.where(c > 255, 255, c)\n",
    "        c = c.astype(np.uint8)\n",
    "    \n",
    "    return c\n"
   ]
  },
  {
   "cell_type": "code",
   "execution_count": null,
   "id": "67bb62b2",
   "metadata": {},
   "outputs": [],
   "source": [
    "'''\n",
    "The the upper and lower reference intensities from the median\n",
    "of a few randomly selected sections\n",
    "\n",
    "rs : array [int]\n",
    "    randomly selected section indices\n",
    "_d : array\n",
    "    random sections cropped to get remove strange things on edges\n",
    "xref : array\n",
    "    median reference image\n",
    "uref : number\n",
    "    the 95th percentile intensity\n",
    "lref : number\n",
    "    the 5th percentile intensity\n",
    "'''\n",
    "\n",
    "rs = np.random.randint(0, len(x.data), 20)\n",
    "\n",
    "_d = x.data[rs, 1000:-1000, 1000:-1000]\n",
    "_d = _d[_d > 0]\n",
    "\n",
    "\n",
    "xref = np.median(_d, axis=0)\n",
    "print(xref.shape)\n",
    "\n",
    "uref = np.percentile(xref, 95)\n",
    "lref = np.percentile(xref, 5)\n",
    "\n",
    "print(uref, lref)\n"
   ]
  },
  {
   "cell_type": "code",
   "execution_count": null,
   "id": "fa289ef6",
   "metadata": {},
   "outputs": [],
   "source": [
    "'''\n",
    "test the correction on the random sections and view it\n",
    "'''\n",
    "\n",
    "rlist = list()\n",
    "for r in sorted(rs):\n",
    "    rlist.append(correct_z(x.data[r], lref, uref))\n",
    "\n",
    "viewer.add_image(np.stack(rlist), colormap=\"gray\")\n",
    "    "
   ]
  },
  {
   "cell_type": "markdown",
   "id": "711129b9-fbf7-442a-bf7f-47ac9ed35868",
   "metadata": {},
   "source": [
    "### Using memmap from tifffle\n",
    "\n",
    "```python\n",
    ">>> memmap_image = memmap(\n",
    "...     'temp.tif',\n",
    "...     shape=(256, 256, 3),\n",
    "...     dtype='float32',\n",
    "...     photometric='rgb'\n",
    "... )\n",
    ">>> type(memmap_image)\n",
    "<class 'numpy.memmap'>\n",
    ">>> memmap_image[255, 255, 1] = 1.0\n",
    ">>> memmap_image.flush()\n",
    ">>> del memmap_image\n",
    "```"
   ]
  },
  {
   "cell_type": "code",
   "execution_count": null,
   "id": "07651faa",
   "metadata": {},
   "outputs": [],
   "source": [
    "'''\n",
    "Use the tifffile.memmap function so the output can be written section-by-section. \n",
    "'''\n",
    "\n",
    "t1 = time.time()\n",
    "mmtif = tifffile.memmap('stack_ali_zcor.tif',\n",
    "                        shape=x.data.shape,\n",
    "                        dtype=np.float32)\n",
    "                        \n",
    "for i, _x in enumerate(x.data):\n",
    "    mmtif[i] = correct_z(_x, lref, uref)\n",
    "    if i % 100 == 0:\n",
    "        print(i,time.time() - t1)\n",
    "        t1 = time.time()\n",
    "    "
   ]
  },
  {
   "cell_type": "code",
   "execution_count": null,
   "id": "3c23f2b7",
   "metadata": {},
   "outputs": [],
   "source": [
    "del mmtif"
   ]
  },
  {
   "cell_type": "code",
   "execution_count": null,
   "id": "84bd5333",
   "metadata": {},
   "outputs": [],
   "source": [
    "xc = tifffile.memmap('stack_ali_zcor.tif')"
   ]
  },
  {
   "cell_type": "code",
   "execution_count": null,
   "id": "925455f3",
   "metadata": {},
   "outputs": [],
   "source": [
    "viewer.add_image(xc)"
   ]
  },
  {
   "cell_type": "code",
   "execution_count": null,
   "id": "ca2809b6",
   "metadata": {},
   "outputs": [],
   "source": [
    "'''\n",
    "Bin the corrected stack by 4\n",
    "\n",
    "'''\n",
    "\n",
    "t1 = time.time()\n",
    "nz = xc.data.shape[0]\n",
    "ny = xc.data.shape[1]//4\n",
    "nx = xc.data.shape[2]//4\n",
    "mmtif = tifffile.memmap('stack_ali_zcor_bin4.tif',\n",
    "                        shape=(nz, ny, nx),\n",
    "                        dtype=np.float32)\n",
    "                        \n",
    "for i, _x in enumerate(xc):\n",
    "    k = _x.reshape(10000//4, 4, 10000//4, 4)\n",
    "    kb = k.mean(axis=(1,3))\n",
    "    mmtif[i] = kb\n",
    "    if i % 100 == 0:\n",
    "        print(i,time.time() - t1)\n",
    "        t1 = time.time()"
   ]
  },
  {
   "cell_type": "code",
   "execution_count": null,
   "id": "7a4006a2",
   "metadata": {},
   "outputs": [],
   "source": [
    "del mmtif"
   ]
  },
  {
   "cell_type": "code",
   "execution_count": null,
   "id": "336a3ab1-df46-4f46-9e80-0f34e7b0edb5",
   "metadata": {},
   "outputs": [],
   "source": [
    "xb = tifffile.memmap('stack_ali_zcor_bin4.tif')\n",
    "viewer.add_image(xb)"
   ]
  },
  {
   "cell_type": "code",
   "execution_count": null,
   "id": "89e36741-71a5-4ae7-a7a6-1c072e4521e0",
   "metadata": {},
   "outputs": [],
   "source": [
    "viewer.add_image(np.moveaxis(xb, 1, 0))"
   ]
  },
  {
   "cell_type": "code",
   "execution_count": null,
   "id": "e6cc2b45-2a88-49e8-b3cc-8808d38f092a",
   "metadata": {},
   "outputs": [],
   "source": []
  }
 ],
 "metadata": {
  "kernelspec": {
   "display_name": "maxwell",
   "language": "python",
   "name": "maxwell"
  },
  "language_info": {
   "codemirror_mode": {
    "name": "ipython",
    "version": 3
   },
   "file_extension": ".py",
   "mimetype": "text/x-python",
   "name": "python",
   "nbconvert_exporter": "python",
   "pygments_lexer": "ipython3",
   "version": "3.9.12"
  }
 },
 "nbformat": 4,
 "nbformat_minor": 5
}
