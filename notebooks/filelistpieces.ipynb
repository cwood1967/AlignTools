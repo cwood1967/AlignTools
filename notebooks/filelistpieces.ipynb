{
 "cells": [
  {
   "cell_type": "code",
   "execution_count": 1,
   "id": "false-louisiana",
   "metadata": {},
   "outputs": [],
   "source": [
    "import glob\n",
    "import os\n",
    "\n",
    "import tifffile\n",
    "import numpy as np\n",
    "\n",
    "from aligntools.utils import piecefile"
   ]
  },
  {
   "cell_type": "markdown",
   "id": "cleared-colleague",
   "metadata": {},
   "source": [
    "### Data location\n",
    "\n"
   ]
  },
  {
   "cell_type": "code",
   "execution_count": 10,
   "id": "southeast-spectacular",
   "metadata": {},
   "outputs": [],
   "source": [
    "tilepath = '/path/to/3view/data/tiles/g0001/'\n",
    "tiles = [5,6,9,10,13, 14]\n",
    "sections = set(range(0, 1699 + 1))\n",
    "outfile = 'fileinfo'"
   ]
  },
  {
   "cell_type": "code",
   "execution_count": 11,
   "id": "prescribed-trinity",
   "metadata": {},
   "outputs": [
    {
     "data": {
      "text/plain": [
       "10200"
      ]
     },
     "execution_count": 11,
     "metadata": {},
     "output_type": "execute_result"
    }
   ],
   "source": [
    "allfiles = sorted(glob.glob(f'{tilepath}/*/*.tif'))\n",
    "len(allfiles)"
   ]
  },
  {
   "cell_type": "code",
   "execution_count": 12,
   "id": "precise-southeast",
   "metadata": {},
   "outputs": [
    {
     "data": {
      "text/plain": [
       "(6, 300)"
      ]
     },
     "execution_count": 12,
     "metadata": {},
     "output_type": "execute_result"
    }
   ],
   "source": [
    "def get_tile_section(f):\n",
    "    b = os.path.basename(f)\n",
    "    s = b.split('_')\n",
    "    stile = int(s[-2][1:])\n",
    "    sz = int(s[-1][1:-4])\n",
    "    return stile, sz\n",
    "\n",
    "get_tile_section(allfiles[2000])"
   ]
  },
  {
   "cell_type": "code",
   "execution_count": 13,
   "id": "proved-example",
   "metadata": {},
   "outputs": [],
   "source": [
    "filelist = []\n",
    "\n",
    "for f in allfiles:\n",
    "    t, z = get_tile_section(f)\n",
    "    if t in tiles and z in sections:\n",
    "        filelist.append(f)"
   ]
  },
  {
   "cell_type": "code",
   "execution_count": 14,
   "id": "regular-guide",
   "metadata": {},
   "outputs": [],
   "source": [
    "\n",
    "with open(outfile, 'w') as out:\n",
    "    out.write(f\"{len(filelist)}\\n\")\n",
    "    for f in filelist:\n",
    "        out.writelines([f\"{f}\\n\", \"0\\n\"])\n"
   ]
  },
  {
   "cell_type": "code",
   "execution_count": 16,
   "id": "sound-password",
   "metadata": {},
   "outputs": [
    {
     "name": "stdout",
     "output_type": "stream",
     "text": [
      "{'xmin': 5944, 'xmax': 11888, 'ymin': 4408, 'ymax': 13224}\n"
     ]
    }
   ],
   "source": [
    "config = piecefile.read_config('config.json')\n",
    "\n",
    "piecefile.addpieces(filelist, config, \"stack.pl\")"
   ]
  },
  {
   "cell_type": "code",
   "execution_count": null,
   "id": "associate-broadcasting",
   "metadata": {},
   "outputs": [],
   "source": []
  }
 ],
 "metadata": {
  "kernelspec": {
   "display_name": "py38",
   "language": "python",
   "name": "py38"
  },
  "language_info": {
   "codemirror_mode": {
    "name": "ipython",
    "version": 3
   },
   "file_extension": ".py",
   "mimetype": "text/x-python",
   "name": "python",
   "nbconvert_exporter": "python",
   "pygments_lexer": "ipython3",
   "version": "3.8.11"
  }
 },
 "nbformat": 4,
 "nbformat_minor": 5
}
