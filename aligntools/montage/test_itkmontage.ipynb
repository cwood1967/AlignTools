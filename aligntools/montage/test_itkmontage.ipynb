{
 "cells": [
  {
   "cell_type": "code",
   "execution_count": 1,
   "id": "e0bd77fa",
   "metadata": {},
   "outputs": [
    {
     "data": {
      "text/plain": [
       "'/home/cjw/anaconda3/envs/py38/bin/python'"
      ]
     },
     "execution_count": 1,
     "metadata": {},
     "output_type": "execute_result"
    }
   ],
   "source": [
    "import sys\n",
    "sys.executable"
   ]
  },
  {
   "cell_type": "code",
   "execution_count": 12,
   "id": "36648348",
   "metadata": {},
   "outputs": [],
   "source": [
    "import time\n",
    "\n",
    "import numpy as np\n",
    "import itk\n",
    "import glob\n",
    "import tifffile\n",
    "\n",
    "from skimage.util import pad\n",
    "from matplotlib import pyplot as plt"
   ]
  },
  {
   "cell_type": "code",
   "execution_count": null,
   "id": "573b5c68",
   "metadata": {},
   "outputs": [],
   "source": [
    "tc = itk.TileConfiguration[2]()"
   ]
  },
  {
   "cell_type": "code",
   "execution_count": 5,
   "id": "c61a1e64",
   "metadata": {},
   "outputs": [],
   "source": [
    "tc.Parse(\"TileConfiguration2.txt\")"
   ]
  },
  {
   "cell_type": "code",
   "execution_count": null,
   "id": "244adc3c",
   "metadata": {},
   "outputs": [],
   "source": [
    "prefix = \"/path/to/SBEMimage/data/tiles/g0000\""
   ]
  },
  {
   "cell_type": "code",
   "execution_count": 20,
   "id": "999e7f16",
   "metadata": {},
   "outputs": [],
   "source": [
    "\n",
    "def stitch(z):\n",
    "    tc = itk.TileConfiguration[2]()\n",
    "    tc.Parse(\"TileConfiguration2.txt\")\n",
    "    zstr = f'{z:04d}'\n",
    "    print(zstr)\n",
    "    images = list()\n",
    "    \n",
    "    for t in range(tc.LinearSize()):\n",
    "        origin = tc.GetTile(t).GetPosition()\n",
    "        filename = f'{prefix}/{tc.GetTile(t).GetFileName()}'\n",
    "        filename = filename.replace('xxxx', zstr)\n",
    "        _xnp = tifffile.imread(filename).astype(np.float32)\n",
    "        #_x = itk.imread(filename, itk.F)\n",
    "        _x = itk.GetImageViewFromArray(_xnp)\n",
    "        _x.SetOrigin(origin)\n",
    "        images.append(_x)\n",
    "\n",
    "    \n",
    "    montage = itk.TileMontage[type(images[0]), itk.F].New()\n",
    "    montage.SetMontageSize(tc.GetAxisSizes())\n",
    "    for t in range(tc.LinearSize()):\n",
    "        montage.SetInputTile(t, images[t])\n",
    "    montage.Update()\n",
    "\n",
    "    ctiles = tc\n",
    "    for t in range(tc.LinearSize()):\n",
    "        index = tc.LinearIndexToNDIndex(t)\n",
    "        #print(index)\n",
    "        reg_tr = montage.GetOutputTransform(index)\n",
    "        tile = tc.GetTile(t)\n",
    "        pos = tile.GetPosition()\n",
    "        for d in range(2):\n",
    "            pos[d] -= reg_tr.GetOffset()[d]\n",
    "        #print(pos)\n",
    "        tile.SetPosition(pos)\n",
    "        ctiles.SetTile(t, tile)\n",
    "\n",
    "    rf = itk.TileMergeImageFilter[type(images[0])].New()\n",
    "    rf.SetMontageSize(tc.GetAxisSizes())\n",
    "    for t in range(tc.LinearSize()):\n",
    "        rf.SetInputTile(t, images[t])\n",
    "        index = tc.LinearIndexToNDIndex(t)\n",
    "        rf.SetTileTransform(index, montage.GetOutputTransform(index))\n",
    "\n",
    "    rf.Update()\n",
    "    \n",
    "    _x = rf.GetOutput()\n",
    "    px = (18300 - _x.shape[-1])\n",
    "    py = (13725 - _x.shape[-2])\n",
    "    _x = np.pad(_x, ((0, py), (0, px)))\n",
    "    _x = 255*(_x - _x.min())/(_x.max() - _x.min())\n",
    "    _x = _x.astype(np.uint8)\n",
    "    tifffile.imwrite(f'TestData/test{zstr}.tif', _x, imagej=True)\n",
    "    \n",
    "    "
   ]
  },
  {
   "cell_type": "code",
   "execution_count": 21,
   "id": "055f459c",
   "metadata": {},
   "outputs": [
    {
     "name": "stdout",
     "output_type": "stream",
     "text": [
      "0375\n",
      "7.478502035140991\n"
     ]
    }
   ],
   "source": [
    "for z in range(375,376):\n",
    "    te = time.time()\n",
    "    stitch(z)\n",
    "    print(time.time() - te)"
   ]
  },
  {
   "cell_type": "code",
   "execution_count": 15,
   "id": "75eddb7e",
   "metadata": {},
   "outputs": [],
   "source": [
    "out = itk.GetArrayFromImage(rf.GetOutput())"
   ]
  },
  {
   "cell_type": "code",
   "execution_count": 8,
   "id": "c0f43777",
   "metadata": {},
   "outputs": [],
   "source": [
    "itk.TileMergeImageFilter?"
   ]
  },
  {
   "cell_type": "code",
   "execution_count": 11,
   "id": "fdfb032d",
   "metadata": {},
   "outputs": [],
   "source": [
    "!mkdir test"
   ]
  },
  {
   "cell_type": "code",
   "execution_count": 24,
   "id": "compliant-secondary",
   "metadata": {},
   "outputs": [
    {
     "data": {
      "text/plain": [
       "3"
      ]
     },
     "execution_count": 24,
     "metadata": {},
     "output_type": "execute_result"
    }
   ],
   "source": [
    "tc.GetAxisSizes()[0]"
   ]
  },
  {
   "cell_type": "code",
   "execution_count": 22,
   "id": "descending-imagination",
   "metadata": {},
   "outputs": [
    {
     "data": {
      "text/plain": [
       "(0, 255, 56.37591415606711)"
      ]
     },
     "execution_count": 22,
     "metadata": {},
     "output_type": "execute_result"
    }
   ],
   "source": [
    "a = tifffile.imread('test/test0375.tif')\n",
    "a.min(), a.max(), a.std() "
   ]
  },
  {
   "cell_type": "code",
   "execution_count": 19,
   "id": "looking-stanford",
   "metadata": {},
   "outputs": [
    {
     "data": {
      "text/plain": [
       "dtype('uint8')"
      ]
     },
     "execution_count": 19,
     "metadata": {},
     "output_type": "execute_result"
    }
   ],
   "source": [
    "a.dtype"
   ]
  },
  {
   "cell_type": "code",
   "execution_count": null,
   "id": "ethical-congress",
   "metadata": {},
   "outputs": [],
   "source": []
  }
 ],
 "metadata": {
  "kernelspec": {
   "display_name": "maxwell",
   "language": "python",
   "name": "maxwell"
  },
  "language_info": {
   "codemirror_mode": {
    "name": "ipython",
    "version": 3
   },
   "file_extension": ".py",
   "mimetype": "text/x-python",
   "name": "python",
   "nbconvert_exporter": "python",
   "pygments_lexer": "ipython3",
   "version": "3.9.12"
  }
 },
 "nbformat": 4,
 "nbformat_minor": 5
}
